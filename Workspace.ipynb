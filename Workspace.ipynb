{
 "cells": [
  {
   "cell_type": "code",
   "execution_count": 5,
   "metadata": {},
   "outputs": [
    {
     "name": "stdout",
     "output_type": "stream",
     "text": [
      "['Waste management', 'Waste&WasteWaterManagement', 'Kombination']\n"
     ]
    }
   ],
   "source": [
    "import xlsxwriter\n",
    "import pandas as pd\n",
    "\n",
    "from pandas import DataFrame\n",
    "\n",
    "path = ('Waste.xlsx')\n",
    "\n",
    "xl = pd.ExcelFile(path)\n",
    "\n",
    "print(xl.sheet_names)"
   ]
  },
  {
   "cell_type": "code",
   "execution_count": 6,
   "metadata": {},
   "outputs": [],
   "source": [
    "wm = xl.parse('Waste management')\n",
    "wwwm = xl.parse('Waste&WasteWaterManagement')"
   ]
  },
  {
   "cell_type": "code",
   "execution_count": 7,
   "metadata": {},
   "outputs": [
    {
     "name": "stdout",
     "output_type": "stream",
     "text": [
      "Index(['FacilityID', 'FacilityName', 'City', 'Lat', 'Long', 'MainIASectorName',\n",
      "       'MainIAActivityName', 'MainActivityIndicator', 'TotalQuantity1',\n",
      "       'TotalQuantity2'],\n",
      "      dtype='object')\n"
     ]
    }
   ],
   "source": [
    "print(wm.columns)"
   ]
  },
  {
   "cell_type": "code",
   "execution_count": 8,
   "metadata": {},
   "outputs": [
    {
     "name": "stdout",
     "output_type": "stream",
     "text": [
      "0     Abfallentsorgungs- und Verwertungs- gesellscha...\n",
      "1     Abfallwirtschafts- und Stadtreinigungsbetrieb ...\n",
      "2     AMK Abfallentsorgungsgesellschaft des Märkisch...\n",
      "3     AVA Abfallverbrennungsanlage Nordweststadt Gmb...\n",
      "4                                              AVA GmbH\n",
      "5               AVG Abfall-Verwertungs-Gesellschaft mbH\n",
      "6                                         AVG Köln GmbH\n",
      "7     AWG Abfallwirtschaftsgesellschaft m bH Wupppertal\n",
      "8                        BASF AG Klärschlammverbrennung\n",
      "9                   Bayer Industry Services GmbH Co.OHG\n",
      "10                               Biomasse-Heizkraftwerk\n",
      "11                   Braunschweigische Kohlen-Bergwerke\n",
      "12            Bremerhavener Entsorgungsgesellschaft mbH\n",
      "13                                     BSR MVA-RUHLEBEN\n",
      "14    EGK Entsorgungsgesellschaft Krefeld GmbH & Co. KG\n",
      "15                           Fortum Enertec Hameln GmbH\n",
      "16    Gemeinschafts-Müll-Verbrennungs- Anlage Nieder...\n",
      "17                GML-Abfallwirtschaftsgesellschaft mbH\n",
      "18                                       GSB Ebenhausen\n",
      "19                         HEAG Südhessische Energie AG\n",
      "20                  Heizkraftwerk Mannheim/Nord mit MVA\n",
      "21    Hornitex Werke Kunststoffe und Holzwerkstoffe ...\n",
      "22    Kreis Weseler Abfallgesellschaft mbH & Co. KG ...\n",
      "23                                          MHKW Coburg\n",
      "24                                        MHKW Mannheim\n",
      "25                                       MHKW Pirmasens\n",
      "26                            Müllheizkraftwerk Kempten\n",
      "27                             Müllkraftwerk Schwandorf\n",
      "28                    Müllverbrennung Kiel GmbH & Co.KG\n",
      "29                     Müllverwertung Borsigstraße GmbH\n",
      "30                      Müllverwertungsanlage Bonn GmbH\n",
      "31    MVA Müllverbrennungsanlage Bielefeld-Herford GmbH\n",
      "32                         MVA Weisweiler GmbH & Co. KG\n",
      "33    MVR Müllverwertung Rugenberger Damm GmbH & Co. KG\n",
      "34    Oberstadtdirektor Düsseldorf Müllverbrennungsa...\n",
      "35                             RWE Power AG MHKW Karnap\n",
      "36                                           RZR Herten\n",
      "37                             Stadtwerke Düsseldorf AG\n",
      "38              SVZ Sekundärrohstoff-Verwertungszentrum\n",
      "39                               SWM Heizkraftwerk Nord\n",
      "40                                 Unitherm Baruth GmbH\n",
      "41    Zweckverband Abfallverwertung Südostbayern - M...\n",
      "42                          Zweckverband MVA Ingolstadt\n",
      "Name: FacilityName, dtype: object\n"
     ]
    }
   ],
   "source": [
    "print(wm['FacilityName'])"
   ]
  },
  {
   "cell_type": "code",
   "execution_count": 9,
   "metadata": {},
   "outputs": [],
   "source": [
    "wmNames = wm['FacilityName']\n",
    "wwwmNames = wwwm['FacilityName']"
   ]
  },
  {
   "cell_type": "code",
   "execution_count": 10,
   "metadata": {},
   "outputs": [
    {
     "name": "stdout",
     "output_type": "stream",
     "text": [
      "Abfallentsorgungs- und Verwertungs- gesellschaft Köln mbH\n",
      "HEAG Südhessische Energie AG\n",
      "MHKW Coburg\n",
      "MHKW Mannheim\n",
      "MHKW Pirmasens\n",
      "Müllheizkraftwerk Kempten\n",
      "Müllkraftwerk Schwandorf\n",
      "MVA Weisweiler GmbH & Co. KG\n",
      "MVR Müllverwertung Rugenberger Damm GmbH & Co. KG\n",
      "RWE Power AG MHKW Karnap\n",
      "Stadtwerke Düsseldorf AG\n"
     ]
    }
   ],
   "source": [
    "for name in wmNames:\n",
    "    for wName in wwwmNames:\n",
    "        if (name == wName):\n",
    "            print(name)"
   ]
  },
  {
   "cell_type": "code",
   "execution_count": 11,
   "metadata": {},
   "outputs": [
    {
     "name": "stdout",
     "output_type": "stream",
     "text": [
      "Abfallentsorgungs- und Verwertungs- gesellschaft Köln mbH liste1: 0 51.002891  Liste2: 36 51.0028322543057\n",
      "HEAG Südhessische Energie AG liste1: 19 49.884135  Liste2: 10 49.8841046677176\n",
      "MHKW Coburg liste1: 23 50.285289  Liste2: 9 50.2852883741028\n",
      "MHKW Mannheim liste1: 24 49.523143  Liste2: 43 49.5213819157734\n",
      "MHKW Pirmasens liste1: 25 49.230269  Liste2: 50 49.2280465579331\n",
      "Müllheizkraftwerk Kempten liste1: 26 47.763901  Liste2: 34 47.7588634843541\n",
      "Müllkraftwerk Schwandorf liste1: 27 49.310035  Liste2: 56 49.3100349557949\n",
      "MVA Weisweiler GmbH & Co. KG liste1: 32 50.840035  Liste2: 15 50.8379940631326\n",
      "MVR Müllverwertung Rugenberger Damm GmbH & Co. KG liste1: 33 53.521185  Liste2: 23 53.5211584732793\n",
      "RWE Power AG MHKW Karnap liste1: 35 51.515  Liste2: 16 51.5150030748136\n",
      "Stadtwerke Düsseldorf AG liste1: 37 51.224705  Liste2: 12 51.2256732427172\n"
     ]
    }
   ],
   "source": [
    "for i in range(0, len(wmNames)):\n",
    "    name = wmNames[i]\n",
    "    for j in range(0, len(wwwmNames)):\n",
    "        wName = wwwmNames[j]\n",
    "        if (name == wName):\n",
    "            print(name, \"liste1:\", i, wm['Lat'][i] , \" Liste2:\", j,  wwwm['Lat'][j])"
   ]
  },
  {
   "cell_type": "code",
   "execution_count": 16,
   "metadata": {},
   "outputs": [
    {
     "name": "stdout",
     "output_type": "stream",
     "text": [
      "3  -  17\n",
      "12  -  7\n",
      "17  -  40\n",
      "19  -  10\n",
      "23  -  9\n",
      "27  -  56\n",
      "28  -  35\n",
      "29  -  22\n",
      "33  -  23\n",
      "35  -  16\n",
      "41  -  8\n",
      "42  -  31\n"
     ]
    }
   ],
   "source": [
    "lat1 = wm['Lat']\n",
    "long1 = wm['Long']\n",
    "lat2 = wwwm['Lat']\n",
    "long2 = wwwm['Long']\n",
    "\n",
    "results = {}\n",
    "\n",
    "for i in range(0, len(lat1)):\n",
    "    lat11 = lat1[i]\n",
    "    long11 = long1[i]\n",
    "    for a in range(0, len(lat2)):\n",
    "        lat22 = lat2[a]\n",
    "        long22 = long2[a]\n",
    "        latDelta = abs(lat11 - lat22)\n",
    "        longDelta = abs(long11 - long22)\n",
    "        if latDelta<0.0002 and longDelta<0.0002:\n",
    "            #print(\"Result \", long11, long22)\n",
    "            tuple = {long11,long22}\n",
    "            results[i] = a\n",
    "\n",
    "for key in results:\n",
    "    print(key, \" - \", results[key])"
   ]
  },
  {
   "cell_type": "code",
   "execution_count": 110,
   "metadata": {},
   "outputs": [],
   "source": [
    "wmData = wm.loc[ results.keys() , ['FacilityID', 'FacilityName', 'Lat', 'Long', 'MainIASectorName', 'TotalQuantity1', 'TotalQuantity2'] ]\n",
    "wwwmData = wwwm.loc[ results.values() , ['FacilityID', 'FacilityName', 'Lat', 'Long', 'MainIASectorName', 'TotalQuantity1', 'TotalQuantity2'] ]\n",
    "\n",
    "resultAsTable = [];\n",
    "index = 0\n",
    "for key in results:\n",
    "    wmLine = wmData.loc[key,:]\n",
    "    resultAsTable.append(wmLine)\n",
    "    wwwmLine = wwwmData.loc[results[key],:]\n",
    "    resultAsTable.append(wwwmLine)\n",
    "    \n",
    "dfObj = pd.DataFrame(resultAsTable) \n",
    "writer = pd.ExcelWriter('WasteResults.xlsx',engine='xlsxwriter')\n",
    "workbook=writer.book\n",
    "worksheet=workbook.add_worksheet('Result')\n",
    "writer.sheets['Result'] = worksheet    \n",
    "dfObj.to_excel(writer, sheet_name='Result', startrow=1 , startcol=0)    \n",
    "  \n",
    "workbook.close()\n"
   ]
  }
 ],
 "metadata": {
  "kernelspec": {
   "display_name": "Python 3",
   "language": "python",
   "name": "python3"
  },
  "language_info": {
   "codemirror_mode": {
    "name": "ipython",
    "version": 3
   },
   "file_extension": ".py",
   "mimetype": "text/x-python",
   "name": "python",
   "nbconvert_exporter": "python",
   "pygments_lexer": "ipython3",
   "version": "3.7.6"
  }
 },
 "nbformat": 4,
 "nbformat_minor": 4
}
