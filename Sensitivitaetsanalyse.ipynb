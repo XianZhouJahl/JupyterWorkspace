{
 "cells": [
  {
   "cell_type": "code",
   "execution_count": 2,
   "metadata": {},
   "outputs": [],
   "source": [
    "import math\n",
    "\n",
    "k = 0.0005\n",
    "G = 200\n",
    "f0 = 100\n",
    "def input(t):\n",
    "    return G / (  1 + math.exp(-k*G*t) * ((G/f0)-1)   )"
   ]
  },
  {
   "cell_type": "code",
   "execution_count": 3,
   "metadata": {},
   "outputs": [
    {
     "name": "stdout",
     "output_type": "stream",
     "text": [
      "109.96679946249559\n"
     ]
    }
   ],
   "source": [
    "print(input(2)) "
   ]
  },
  {
   "cell_type": "code",
   "execution_count": 4,
   "metadata": {},
   "outputs": [
    {
     "name": "stdout",
     "output_type": "stream",
     "text": [
      "100.0\n",
      "104.995837495788\n",
      "109.96679946249559\n",
      "114.8885033623318\n",
      "119.7375320224904\n",
      "124.49186624037091\n",
      "129.1312612451591\n",
      "133.63755443363323\n",
      "137.9948962255225\n",
      "142.18990052500078\n",
      "146.21171572600096\n",
      "150.05202111902352\n",
      "153.70495669980355\n",
      "157.16699660851174\n",
      "160.43677771171636\n",
      "163.5148952387287\n",
      "166.4036770267849\n",
      "169.10694698329306\n",
      "171.62978701990247\n",
      "173.97830512740043\n",
      "176.15941559557646\n",
      "178.1806357608774\n",
      "180.04990217606297\n",
      "181.77540779702875\n",
      "183.36546070121554\n"
     ]
    }
   ],
   "source": [
    "for i in range(0,25):\n",
    "    print(input(i))"
   ]
  },
  {
   "cell_type": "code",
   "execution_count": 5,
   "metadata": {},
   "outputs": [],
   "source": [
    "tkA=0.25\n",
    "tkB=0.75"
   ]
  },
  {
   "cell_type": "code",
   "execution_count": 35,
   "metadata": {},
   "outputs": [],
   "source": [
    "alphaA =2.5\n",
    "betaA = 2.25075932963156\n",
    "alphaB =1.5\n",
    "betaB = 5.56274621249898\n",
    "def lebensdauerfunktionA(x):\n",
    "    return (alphaA/pow(betaA, alphaA)) * pow(x,alphaA-1)*math.exp(-pow(x/betaA,alphaA))/0.99162573\n",
    "\n",
    "\n",
    "def  lebensdauerfunktionB(x):\n",
    "    return (alphaB/pow(betaB, alphaB)) * pow(x,alphaB-1)*math.exp(-pow(x/betaB,alphaB))/0.97613848\n",
    "\n"
   ]
  },
  {
   "cell_type": "code",
   "execution_count": 36,
   "metadata": {},
   "outputs": [
    {
     "name": "stdout",
     "output_type": "stream",
     "text": [
      "0.0\n",
      "0.290821663861206\n",
      "0.4457239467330972\n",
      "0.22165782081891816\n",
      "0.039381236063843535\n",
      "0.00237052134756455\n",
      "4.457070032400084e-05\n",
      "2.400589312030483e-07\n",
      "3.399768512602497e-10\n",
      "1.1652745100397936e-13\n",
      "8.925313520418085e-18\n",
      "1.4150845129659466e-22\n",
      "4.314721219598558e-28\n",
      "2.357132039603054e-34\n",
      "2.1548976263775342e-41\n",
      "3.086308021353304e-49\n",
      "6.496846068972068e-58\n",
      "1.8894861293882573e-67\n",
      "7.149381566928558e-78\n",
      "3.3197188529034406e-89\n",
      "1.7870300244626265e-101\n",
      "1.0550364522880856e-114\n",
      "6.4712884516182e-129\n",
      "3.9113038367428885e-144\n",
      "2.211987681957014e-160\n",
      "0.0\n",
      "0.10852861102243375\n",
      "0.1335165729740526\n",
      "0.13652275631310382\n",
      "0.1273099255771884\n",
      "0.11169727531080913\n",
      "0.09358963922692984\n",
      "0.0755340394616061\n",
      "0.05904521842913148\n",
      "0.044876710616424925\n",
      "0.03325660767217322\n",
      "0.024082235216596797\n",
      "0.017069637442103557\n",
      "0.011859564048978088\n",
      "0.00808604806627622\n",
      "0.005415716975358954\n",
      "0.0035661240806286183\n",
      "0.0023103562915644444\n",
      "0.001473622454096244\n",
      "0.0009259115811701196\n",
      "0.0005733950304449983\n",
      "0.00035014069667957387\n",
      "0.00021092108391841834\n",
      "0.00012538760778573016\n",
      "7.35870027924717e-05\n"
     ]
    }
   ],
   "source": [
    "for a in range(0,25):\n",
    "    print(lebensdauerfunktionA(a))\n",
    "for b in range(0,25):\n",
    "    print(lebensdauerfunktionB(b))"
   ]
  },
  {
   "cell_type": "code",
   "execution_count": 37,
   "metadata": {},
   "outputs": [
    {
     "name": "stdout",
     "output_type": "stream",
     "text": [
      "28.72212584058295\n"
     ]
    }
   ],
   "source": [
    "def inputA(x):\n",
    "    return input(x) * tkA\n",
    "print(inputA(3))"
   ]
  },
  {
   "cell_type": "code",
   "execution_count": 69,
   "metadata": {},
   "outputs": [
    {
     "name": "stdout",
     "output_type": "stream",
     "text": [
      "1 :  26.248959373947\n",
      "2 :  27.491699865623897\n",
      "3 :  28.72212584058295\n",
      "4 :  29.9343830056226\n",
      "5 :  31.122966560092728\n",
      "6 :  32.282815311289774\n",
      "7 :  33.40938860840831\n",
      "8 :  34.498724056380624\n",
      "9 :  35.547475131250195\n",
      "10 :  36.55292893150024\n",
      "11 :  37.51300527975588\n",
      "12 :  38.42623917495089\n",
      "13 :  39.291749152127935\n",
      "14 :  40.10919442792909\n",
      "15 :  40.87872380968218\n",
      "16 :  41.60091925669622\n",
      "17 :  42.276736745823264\n",
      "18 :  42.907446754975616\n",
      "19 :  43.49457628185011\n",
      "20 :  44.039853898894116\n",
      "21 :  44.54515894021935\n",
      "22 :  45.01247554401574\n",
      "23 :  45.44385194925719\n",
      "24 :  45.841365175303885\n",
      "25 :  46.20709099893782\n"
     ]
    }
   ],
   "source": [
    "aInputs = []\n",
    "for q in range(1,26):\n",
    "    print(q, \": \",inputA(q))\n",
    "    aInputs.append(inputA(q))"
   ]
  },
  {
   "cell_type": "code",
   "execution_count": 70,
   "metadata": {},
   "outputs": [
    {
     "name": "stdout",
     "output_type": "stream",
     "text": [
      "1 :  78.746878121841\n",
      "2 :  82.47509959687169\n",
      "3 :  86.16637752174886\n",
      "4 :  89.80314901686779\n",
      "5 :  93.36889968027819\n",
      "6 :  96.84844593386933\n",
      "7 :  100.22816582522492\n",
      "8 :  103.49617216914187\n",
      "9 :  106.64242539375059\n",
      "10 :  109.65878679450071\n",
      "11 :  112.53901583926765\n",
      "12 :  115.27871752485265\n",
      "13 :  117.8752474563838\n",
      "14 :  120.32758328378728\n",
      "15 :  122.63617142904653\n",
      "16 :  124.80275777008868\n",
      "17 :  126.8302102374698\n",
      "18 :  128.72234026492686\n",
      "19 :  130.48372884555033\n",
      "20 :  132.11956169668235\n",
      "21 :  133.63547682065806\n",
      "22 :  135.03742663204724\n",
      "23 :  136.33155584777157\n",
      "24 :  137.52409552591166\n",
      "25 :  138.62127299681347\n"
     ]
    }
   ],
   "source": [
    "bInputs = []\n",
    "def inputB(x):\n",
    "    return input(x)*tkB\n",
    "for w in range(1,26):\n",
    "    print(w,\": \", inputB(w))\n",
    "    bInputs.append(inputB(w))"
   ]
  },
  {
   "cell_type": "code",
   "execution_count": 71,
   "metadata": {},
   "outputs": [
    {
     "name": "stdout",
     "output_type": "stream",
     "text": [
      "7.633766039756466\n"
     ]
    }
   ],
   "source": [
    "def outputA(x):\n",
    "    return inputA(x)*lebensdauerfunktionA(x)\n",
    "print(outputA(1))"
   ]
  },
  {
   "cell_type": "code",
   "execution_count": 72,
   "metadata": {},
   "outputs": [
    {
     "name": "stdout",
     "output_type": "stream",
     "text": [
      "A output 0 0\n",
      "A output 1 7.633766039756466\n",
      "A output 2 19.69497166708602\n",
      "A output 3 26.42501252669032\n",
      "A output 4 28.635173108940666\n",
      "A output 5 29.905068919451217\n",
      "A output 6 31.093436070642998\n",
      "A output 7 32.25221782265258\n",
      "A output 8 33.3779871323116\n",
      "A output 9 34.46679150920958\n",
      "A output 10 35.5152810087184\n",
      "A output 11 36.52073264718744\n",
      "A output 12 37.48105046307246\n",
      "A output 13 38.39474908550689\n",
      "A output 14 39.26092328726716\n",
      "A output 15 40.07920631946476\n",
      "A output 16 40.84971993880399\n",
      "A output 17 41.57301896577386\n",
      "A output 18 42.250032993224835\n",
      "A output 19 42.8820075429697\n",
      "A output 20 43.470446585776656\n",
      "A output 21 44.017057934962374\n",
      "A output 22 44.523702626216014\n",
      "A output 23 44.99234902876863\n",
      "A output 24 45.425032110235975\n"
     ]
    }
   ],
   "source": [
    "aOutputs = []\n",
    "for e in range(0,25):\n",
    "    sum = 0;\n",
    "    for r in range(1,26):\n",
    "        if e-r >= 0:\n",
    "             lebensdauerA = lebensdauerfunktionA(e-(r-1))\n",
    "             sum += (lebensdauerA * inputA(r))\n",
    "    print(\"A output\", e, sum)\n",
    "    aOutputs.append(sum)\n",
    "    "
   ]
  },
  {
   "cell_type": "code",
   "execution_count": 73,
   "metadata": {},
   "outputs": [
    {
     "name": "stdout",
     "output_type": "stream",
     "text": [
      "B output 0 0\n",
      "B output 1 8.546289304916279\n",
      "B output 2 19.46492130241898\n",
      "B output 3 31.114050775383816\n",
      "B output 4 42.53583757782383\n",
      "B output 5 53.18278757187946\n",
      "B output 6 62.78926718311022\n",
      "B output 7 71.27974218609037\n",
      "B output 8 78.69757277330027\n",
      "B output 9 85.15125413383747\n",
      "B output 10 90.77631157116474\n",
      "B output 11 95.71048362461559\n",
      "B output 12 100.0793583608502\n",
      "B output 13 103.98959829316269\n",
      "B output 14 107.52720996321409\n",
      "B output 15 110.7588177826356\n",
      "B output 16 113.73444604764319\n",
      "B output 17 116.49080642510032\n",
      "B output 18 119.05448599445633\n",
      "B output 19 121.44472253097888\n",
      "B output 20 123.6756489139862\n",
      "B output 21 125.75800648648878\n",
      "B output 22 127.70038898883827\n",
      "B output 23 129.51010323910666\n",
      "B output 24 131.1937349519609\n"
     ]
    }
   ],
   "source": [
    "bOutputs = []\n",
    "for e in range(0,25):\n",
    "    sum = 0;\n",
    "    for r in range(1,26):\n",
    "        if e-r >= 0:\n",
    "             lebensdauerB = lebensdauerfunktionB(e-(r-1))\n",
    "             sum += (lebensdauerB * inputB(r))\n",
    "    print(\"B output\", e, sum)\n",
    "    bOutputs.append(sum)"
   ]
  },
  {
   "cell_type": "code",
   "execution_count": 53,
   "metadata": {},
   "outputs": [
    {
     "data": {
      "text/plain": [
       "array([  0.        ,  16.18005534,  39.15989297,  57.5390633 ,\n",
       "        71.17101069,  83.08785649,  93.88270325, 103.53196001,\n",
       "       112.07555991, 119.61804564, 126.29159258, 132.23121627,\n",
       "       137.56040882, 142.38434738, 146.78813325, 150.8380241 ,\n",
       "       154.58416599, 158.06382539, 161.30451899, 164.32673007,\n",
       "       167.1460955 , 169.77506442, 172.22409162, 174.50245227,\n",
       "       176.61876706])"
      ]
     },
     "execution_count": 53,
     "metadata": {},
     "output_type": "execute_result"
    }
   ],
   "source": [
    "import numpy as np\n",
    "\n",
    "np.add(aOutputs, bOutputs)"
   ]
  },
  {
   "cell_type": "code",
   "execution_count": 60,
   "metadata": {},
   "outputs": [
    {
     "data": {
      "image/png": "[encoded data removed]",
      "text/plain": [
       "<Figure size 432x288 with 1 Axes>"
      ]
     },
     "metadata": {
      "needs_background": "light"
     },
     "output_type": "display_data"
    }
   ],
   "source": [
    "import pandas as pd                     \n",
    "import matplotlib.pyplot as plt  \n",
    "\n",
    "df = pd.DataFrame({\n",
    "     'OutputA': aOutputs,\n",
    "     'OutputB': aOutputs,\n",
    " })\n",
    "ax = df.plot.area()"
   ]
  },
  {
   "cell_type": "code",
   "execution_count": 79,
   "metadata": {},
   "outputs": [
    {
     "data": {
      "text/plain": [
       "<matplotlib.legend.Legend at 0x11b8d5d10>"
      ]
     },
     "execution_count": 79,
     "metadata": {},
     "output_type": "execute_result"
    },
    {
     "data": {
      "image/png": "[encoded data removed]",
      "text/plain": [
       "<Figure size 432x288 with 1 Axes>"
      ]
     },
     "metadata": {
      "needs_background": "light"
     },
     "output_type": "display_data"
    }
   ],
   "source": [
    "x=range(1,26)\n",
    "plt.stackplot(x, aOutputs, bOutputs, labels=['OutputA','OutputB'])\n",
    "plt.legend(loc='upper left')\n"
   ]
  },
  {
   "cell_type": "code",
   "execution_count": 78,
   "metadata": {},
   "outputs": [],
   "source": [
    "lageraenderungA = np.array(aInputs) - np.array(aOutputs)\n",
    "lageraenderungB = np.array(bInputs) - np.array(bOutputs)"
   ]
  },
  {
   "cell_type": "code",
   "execution_count": 93,
   "metadata": {},
   "outputs": [],
   "source": [
    "def lagerA(t):\n",
    "    if t == 0:\n",
    "        return 0;\n",
    "    else:\n",
    "        return lageraenderungA[t-1] + lagerA(t-1)\n",
    "\n",
    "def lagerB(t):\n",
    "    if t == 0:\n",
    "        return 0;\n",
    "    else:\n",
    "        return lageraenderungB[t-1] + lagerB(t-1)"
   ]
  },
  {
   "cell_type": "code",
   "execution_count": 101,
   "metadata": {},
   "outputs": [],
   "source": [
    "aLagerList =[]\n",
    "for i in range(0, 25):\n",
    "    aLagerList.append(lagerA(i))"
   ]
  },
  {
   "cell_type": "code",
   "execution_count": 102,
   "metadata": {},
   "outputs": [],
   "source": [
    "bLagerList =[]\n",
    "for i in range(0, 25):\n",
    "    bLagerList.append(lagerB(i))"
   ]
  },
  {
   "cell_type": "code",
   "execution_count": 103,
   "metadata": {},
   "outputs": [
    {
     "data": {
      "text/plain": [
       "<matplotlib.legend.Legend at 0x11bc61510>"
      ]
     },
     "execution_count": 103,
     "metadata": {},
     "output_type": "execute_result"
    },
    {
     "data": {
      "image/png": "[encoded data removed]",
      "text/plain": [
       "<Figure size 432x288 with 1 Axes>"
      ]
     },
     "metadata": {
      "needs_background": "light"
     },
     "output_type": "display_data"
    }
   ],
   "source": [
    "x=range(1,26)\n",
    "plt.stackplot(x, aLagerList, bLagerList, labels=['Lager A','Lager B'])\n",
    "plt.legend(loc='upper left')"
   ]
  },
  {
   "cell_type": "code",
   "execution_count": null,
   "metadata": {},
   "outputs": [],
   "source": []
  }
 ],
 "metadata": {
  "kernelspec": {
   "display_name": "Python 3",
   "language": "python",
   "name": "python3"
  },
  "language_info": {
   "codemirror_mode": {
    "name": "ipython",
    "version": 3
   },
   "file_extension": ".py",
   "mimetype": "text/x-python",
   "name": "python",
   "nbconvert_exporter": "python",
   "pygments_lexer": "ipython3",
   "version": "3.7.6"
  }
 },
 "nbformat": 4,
 "nbformat_minor": 4
}
